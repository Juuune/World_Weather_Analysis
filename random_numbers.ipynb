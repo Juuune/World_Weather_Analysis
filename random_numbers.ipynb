{
 "cells": [
  {
   "cell_type": "code",
   "execution_count": 2,
   "metadata": {},
   "outputs": [],
   "source": [
    "# import random module\n",
    "import random "
   ]
  },
  {
   "cell_type": "code",
   "execution_count": 21,
   "metadata": {},
   "outputs": [
    {
     "name": "stdout",
     "output_type": "stream",
     "text": [
      "[4.73961952675342, -63.25331516856058, -0.5762950128394947, -18.959347931677154, 63.73098461911294, -81.90976215707191, 15.604869779706448, 56.713306786923674, -21.65287969021721, -84.82413607454964]\n"
     ]
    }
   ],
   "source": [
    "x = 1\n",
    "latitudes =[]\n",
    "while x < 11 :\n",
    "    random_lat = random.randint(-90,89)+random.random()\n",
    "    latitudes.append(random_lat)\n",
    "    x += 1 \n",
    "print(latitudes)"
   ]
  },
  {
   "cell_type": "code",
   "execution_count": 20,
   "metadata": {},
   "outputs": [
    {
     "name": "stdout",
     "output_type": "stream",
     "text": [
      "[48, -54, -72, 0, -57, -39, -66, 78, -33, -69]\n"
     ]
    }
   ],
   "source": [
    "x = 1\n",
    "latitudes =[]\n",
    "while x < 11 :\n",
    "    random_lat = random.randrange(-90,90, step=3)\n",
    "    latitudes.append(random_lat)\n",
    "    x += 1 \n",
    "print(latitudes)"
   ]
  },
  {
   "cell_type": "code",
   "execution_count": 22,
   "metadata": {},
   "outputs": [
    {
     "name": "stdout",
     "output_type": "stream",
     "text": [
      "[41.77227056375904, -20.524439342074146, 36.39152607799426, -64.0822442535603, 5.9451105412960175, 6.4303723524012355, -79.49955163090829, -77.35245484127756, 67.5623444884117, 27.601287819988414]\n"
     ]
    }
   ],
   "source": [
    "x = 1\n",
    "latitudes =[]\n",
    "while x < 11 :\n",
    "    random_lat = random.uniform(-90,90)\n",
    "    latitudes.append(random_lat)\n",
    "    x += 1 \n",
    "print(latitudes)"
   ]
  },
  {
   "cell_type": "code",
   "execution_count": 23,
   "metadata": {},
   "outputs": [],
   "source": [
    "# Import the NumPy module.\n",
    "import numpy as np"
   ]
  },
  {
   "cell_type": "code",
   "execution_count": 25,
   "metadata": {},
   "outputs": [
    {
     "data": {
      "text/plain": [
       "array([ 81.98108421, -17.42631584,   6.73151536,  69.07734575,\n",
       "        46.09014811,  -0.69866789,  56.89315382, -80.51940123,\n",
       "       -29.84663637, -78.50285007,  13.84207074,   5.62926356,\n",
       "       -37.05362428,  37.22153035,  10.385888  ,  87.91851637,\n",
       "        77.4624584 ,  77.22539583, -53.18521867, -67.23543122,\n",
       "       -62.88906954,  14.69718609,   4.84090763,   7.31205378,\n",
       "       -77.8073384 , -16.5562386 , -40.14351017, -43.00581768,\n",
       "        -5.64143878,   2.69795507,   8.31876148, -10.76335595,\n",
       "        -4.29526224,  47.39875956,  55.86833616, -31.99516977,\n",
       "        67.09597561,  25.37836865, -62.50741474,  19.11546549,\n",
       "        61.85349785, -79.1398441 ,  -2.98592247,  39.92580219,\n",
       "        55.82141149,  -1.89272987,  -2.87434559,  30.57542581,\n",
       "        82.85516122,   9.99316313])"
      ]
     },
     "execution_count": 25,
     "metadata": {},
     "output_type": "execute_result"
    }
   ],
   "source": [
    "np.random.uniform(-90.000, 90.000, size = 50)"
   ]
  },
  {
   "cell_type": "code",
   "execution_count": 26,
   "metadata": {},
   "outputs": [],
   "source": [
    "# Import timeit.\n",
    "import timeit"
   ]
  },
  {
   "cell_type": "code",
   "execution_count": 31,
   "metadata": {},
   "outputs": [
    {
     "name": "stdout",
     "output_type": "stream",
     "text": [
      "37.2 µs ± 1.91 µs per loop (mean ± std. dev. of 7 runs, 10000 loops each)\n"
     ]
    }
   ],
   "source": [
    "%timeit np.random.uniform(-90.000, 90.000, size=1500)"
   ]
  },
  {
   "cell_type": "code",
   "execution_count": 35,
   "metadata": {},
   "outputs": [
    {
     "data": {
      "text/plain": [
       "20"
      ]
     },
     "execution_count": 35,
     "metadata": {},
     "output_type": "execute_result"
    }
   ],
   "source": [
    "def latitudes(size):\n",
    "    latitudes = []\n",
    "    for x in range(size):\n",
    "        random_lat = random.randint(-90, 90) + random.random()\n",
    "        latitudes.append(random_lat)\n",
    "    \n",
    "    return latitudes\n",
    "# Call the function with 1500. "
   ]
  },
  {
   "cell_type": "code",
   "execution_count": null,
   "metadata": {},
   "outputs": [],
   "source": []
  }
 ],
 "metadata": {
  "kernelspec": {
   "display_name": "PythonData",
   "language": "python",
   "name": "pythondata"
  },
  "language_info": {
   "codemirror_mode": {
    "name": "ipython",
    "version": 3
   },
   "file_extension": ".py",
   "mimetype": "text/x-python",
   "name": "python",
   "nbconvert_exporter": "python",
   "pygments_lexer": "ipython3",
   "version": "3.7.7"
  }
 },
 "nbformat": 4,
 "nbformat_minor": 4
}
